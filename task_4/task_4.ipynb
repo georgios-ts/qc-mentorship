{
 "cells": [
  {
   "cell_type": "code",
   "execution_count": 1,
   "metadata": {},
   "outputs": [
    {
     "data": {
      "text/plain": [
       "(array([ 1., -1.,  1.,  1.]),\n",
       " array([[ 0.        ,  0.        ,  1.        ,  0.        ],\n",
       "        [-0.70710678,  0.70710678,  0.        ,  0.        ],\n",
       "        [ 0.70710678,  0.70710678,  0.        ,  0.        ],\n",
       "        [ 0.        ,  0.        ,  0.        ,  1.        ]]))"
      ]
     },
     "execution_count": 1,
     "metadata": {},
     "output_type": "execute_result"
    }
   ],
   "source": [
    "import numpy as np\n",
    "\n",
    "from qiskit import Aer, execute, QuantumCircuit\n",
    "from qiskit.circuit import ParameterVector\n",
    "\n",
    "from qiskit.aqua.operators import MatrixOp, StateFn\n",
    "\n",
    "from qiskit.aqua.operators.converters import CircuitSampler\n",
    "from qiskit.aqua.operators.expectations import PauliExpectation\n",
    "\n",
    "\n",
    "# define Matrix - and print eigenvalues\n",
    "M = np.array([[1,  0,  0, 0], \n",
    "              [0,  0, -1, 0], \n",
    "              [0, -1,  0, 0], \n",
    "              [0,  0,  0, 1]])\n",
    "\n",
    "np.linalg.eig(M)"
   ]
  },
  {
   "cell_type": "markdown",
   "metadata": {},
   "source": [
    "### Decompose M into  a sum of Pauli matrices\n",
    "M is a Hermitian Matrix and naturally coresponds to a Hamiltonian operator $ H $. We decompose the operator to a sum of Pauli matrices, $ H = \\sum_a w_a P_a $, since we can estimate the expectation value of a Pauli operator through measurements in computational basis and finally estimate the expectation value of H as\n",
    "\n",
    "$$ \\langle H \\rangle = \\sum_a w_a \\langle P_a \\rangle $$"
   ]
  },
  {
   "cell_type": "code",
   "execution_count": 2,
   "metadata": {},
   "outputs": [
    {
     "name": "stdout",
     "output_type": "stream",
     "text": [
      "SummedOp(\n",
      "[0.5 * II,\n",
      "-0.5 * XX,\n",
      "-0.5 * YY,\n",
      "0.5 * ZZ])\n"
     ]
    }
   ],
   "source": [
    "H = MatrixOp(M).to_pauli_op()\n",
    "\n",
    "print(H)"
   ]
  },
  {
   "cell_type": "markdown",
   "metadata": {},
   "source": [
    "### Ansatz\n",
    "We choose the following simple variatonal form"
   ]
  },
  {
   "cell_type": "code",
   "execution_count": 3,
   "metadata": {},
   "outputs": [
    {
     "name": "stdout",
     "output_type": "stream",
     "text": [
      "Variatonal form\n",
      "     ┌────────────┐     \n",
      "q_0: ┤ RY(phi[0]) ├──■──\n",
      "     ├────────────┤┌─┴─┐\n",
      "q_1: ┤ RY(phi[1]) ├┤ X ├\n",
      "     └────────────┘└───┘\n"
     ]
    }
   ],
   "source": [
    "# define variatonal form\n",
    "def ansatz():\n",
    "    \n",
    "    phi = ParameterVector(name='phi', length=2)\n",
    "    \n",
    "    qc = QuantumCircuit(2)\n",
    "    qc.ry(phi[0], 0)\n",
    "    qc.ry(phi[1], 1)\n",
    "    qc.cx(0, 1)    \n",
    "    \n",
    "    return qc, phi\n",
    "\n",
    "\n",
    "qc, params = ansatz()\n",
    "\n",
    "print('Variatonal form')\n",
    "print(qc)"
   ]
  },
  {
   "cell_type": "markdown",
   "metadata": {},
   "source": [
    "### Cost function\n",
    "The cost is simply the expectation value of $ H $.\n",
    "\n",
    "We measure the expectation value of the Hamiltonian $ H $ using `CircuitSampler` and `PauliExpectation` objects built in Qiskit-Aqua. In short,\n",
    "\n",
    "- `PauliExpectation` groups the Pauli terms in $ H $ and prepares the circuits for measurements in $ Z, X, Y $ basis. \n",
    "- `CircuitSampler` executes the circuits and computes the expectation values."
   ]
  },
  {
   "cell_type": "code",
   "execution_count": 4,
   "metadata": {},
   "outputs": [],
   "source": [
    "BACKEND = Aer.get_backend('qasm_simulator')\n",
    "\n",
    "sampler = CircuitSampler(BACKEND)\n",
    "exp = PauliExpectation(group_paulis=True)\n",
    "\n",
    "qc, params = ansatz()\n",
    "\n",
    "def cost(phi):\n",
    "    \n",
    "    # circuit \n",
    "    circ = qc.bind_parameters(dict(zip(params, phi)))\n",
    "    \n",
    "    # execute and measure expectation value of H\n",
    "    cost = sampler.convert(exp.convert(~StateFn(H)) @ StateFn(circ)).eval()\n",
    "    \n",
    "    return cost.real"
   ]
  },
  {
   "cell_type": "markdown",
   "metadata": {},
   "source": [
    "### Optimization"
   ]
  },
  {
   "cell_type": "code",
   "execution_count": 7,
   "metadata": {},
   "outputs": [
    {
     "name": "stdout",
     "output_type": "stream",
     "text": [
      "\n",
      "Lowest eigenvalue:  -1.0\n"
     ]
    },
    {
     "data": {
      "text/plain": [
       "     fun: -1.0\n",
       "   maxcv: 0.0\n",
       " message: 'Optimization terminated successfully.'\n",
       "    nfev: 32\n",
       "  status: 1\n",
       " success: True\n",
       "       x: array([7.8271194 , 3.13380394])"
      ]
     },
     "execution_count": 7,
     "metadata": {},
     "output_type": "execute_result"
    }
   ],
   "source": [
    "from scipy.optimize import minimize\n",
    "\n",
    "# random initial choice\n",
    "phi = np.random.uniform(0, 2 * np.pi, len(params))\n",
    "\n",
    "res = minimize(cost, phi, \n",
    "               method='COBYLA')\n",
    "\n",
    "print('\\nLowest eigenvalue: ', res.fun)\n",
    "res"
   ]
  },
  {
   "cell_type": "markdown",
   "metadata": {},
   "source": [
    "## VQE in Qiskit-Aqua\n",
    "For demonstration purposes only, we use the same variatonal form but the VQE instance already built in Qiskit Aqua."
   ]
  },
  {
   "cell_type": "code",
   "execution_count": 8,
   "metadata": {},
   "outputs": [
    {
     "name": "stdout",
     "output_type": "stream",
     "text": [
      "\n",
      "Lowest eigenvalue:  (-1+0j)\n"
     ]
    }
   ],
   "source": [
    "from qiskit.aqua.algorithms import VQE\n",
    "from qiskit.aqua.components.optimizers import SPSA, COBYLA\n",
    "from qiskit.aqua import QuantumInstance\n",
    "\n",
    "optimizer = SPSA(max_trials=100)\n",
    "\n",
    "var_form, _ = ansatz()\n",
    "\n",
    "vqe = VQE(H, var_form, optimizer)\n",
    "vqe_result = vqe.run(QuantumInstance(backend=BACKEND))\n",
    "\n",
    "vqe_result\n",
    "\n",
    "print('\\nLowest eigenvalue: ', vqe_result.eigenvalue)"
   ]
  }
 ],
 "metadata": {
  "kernelspec": {
   "display_name": "Python 3",
   "language": "python",
   "name": "python3"
  },
  "language_info": {
   "codemirror_mode": {
    "name": "ipython",
    "version": 3
   },
   "file_extension": ".py",
   "mimetype": "text/x-python",
   "name": "python",
   "nbconvert_exporter": "python",
   "pygments_lexer": "ipython3",
   "version": "3.7.1"
  }
 },
 "nbformat": 4,
 "nbformat_minor": 4
}
