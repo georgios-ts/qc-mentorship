{
 "cells": [
  {
   "cell_type": "code",
   "execution_count": 1,
   "metadata": {},
   "outputs": [
    {
     "data": {
      "text/plain": [
       "(array([ 1., -1.,  1.,  1.]),\n",
       " array([[ 0.        ,  0.        ,  1.        ,  0.        ],\n",
       "        [-0.70710678,  0.70710678,  0.        ,  0.        ],\n",
       "        [ 0.70710678,  0.70710678,  0.        ,  0.        ],\n",
       "        [ 0.        ,  0.        ,  0.        ,  1.        ]]))"
      ]
     },
     "execution_count": 1,
     "metadata": {},
     "output_type": "execute_result"
    }
   ],
   "source": [
    "import numpy as np\n",
    "\n",
    "from qiskit import Aer, execute, QuantumCircuit\n",
    "from qiskit.circuit import Parameter, ParameterVector\n",
    "\n",
    "from qiskit.aqua.operators import MatrixOp, StateFn\n",
    "\n",
    "from qiskit.aqua.operators.converters import CircuitSampler\n",
    "from qiskit.aqua.operators.expectations import PauliExpectation\n",
    "\n",
    "\n",
    "# define Matrix - and print eigenvalues\n",
    "M = np.array([[1,  0,  0, 0], \n",
    "              [0,  0, -1, 0], \n",
    "              [0, -1,  0, 0], \n",
    "              [0,  0,  0, 1]])\n",
    "\n",
    "np.linalg.eig(M)"
   ]
  },
  {
   "cell_type": "markdown",
   "metadata": {},
   "source": [
    "### Decompose M into  a sum of Pauli matrices\n",
    "M is a Hermitian Matrix and naturally coresponds to a Hamiltonian operator $ H $. We decompose the operator to a sum of Pauli matrices, $ H = \\sum_a w_a P_a $, since we can estimate the expectation value of a Pauli operator through measurements in computational basis and finally estimate the expectation value of H as\n",
    "\n",
    "$$ \\langle H \\rangle = \\sum_a w_a \\langle P_a \\rangle $$"
   ]
  },
  {
   "cell_type": "code",
   "execution_count": 2,
   "metadata": {},
   "outputs": [
    {
     "name": "stdout",
     "output_type": "stream",
     "text": [
      "SummedOp([\n",
      "  0.5 * II,\n",
      "  -0.5 * XX,\n",
      "  -0.5 * YY,\n",
      "  0.5 * ZZ\n",
      "])\n"
     ]
    }
   ],
   "source": [
    "H = MatrixOp(M).to_pauli_op()\n",
    "\n",
    "print(H)"
   ]
  },
  {
   "cell_type": "markdown",
   "metadata": {},
   "source": [
    "### Ansatz\n",
    "We choose the following simple variatonal form"
   ]
  },
  {
   "cell_type": "code",
   "execution_count": 3,
   "metadata": {},
   "outputs": [
    {
     "name": "stdout",
     "output_type": "stream",
     "text": [
      "Variatonal form\n",
      "       ┌───┐       \n",
      "q_0: ──┤ H ├────■──\n",
      "     ┌─┴───┴─┐┌─┴─┐\n",
      "q_1: ┤ RX(φ) ├┤ X ├\n",
      "     └───────┘└───┘\n"
     ]
    }
   ],
   "source": [
    "# define variatonal form\n",
    "def ansatz():\n",
    "    \n",
    "    phi = Parameter('φ')\n",
    "    \n",
    "    qc = QuantumCircuit(2)\n",
    "    qc.h(0)\n",
    "    qc.rx(phi, 1)\n",
    "    qc.cx(0, 1)\n",
    "    \n",
    "    return qc, phi\n",
    "\n",
    "\n",
    "qc, param = ansatz()\n",
    "\n",
    "print('Variatonal form')\n",
    "print(qc)"
   ]
  },
  {
   "cell_type": "markdown",
   "metadata": {},
   "source": [
    "### Cost function\n",
    "The cost is simply the expectation value of $ H $.\n",
    "\n",
    "We measure the expectation value of the Hamiltonian $ H $ using `CircuitSampler` and `PauliExpectation` objects built in Qiskit-Aqua. In short,\n",
    "\n",
    "- `PauliExpectation` groups the Pauli terms in $ H $ and prepares the circuits for measurements in $ Z, X, Y $ basis. \n",
    "- `CircuitSampler` executes the circuits and computes the expectation values."
   ]
  },
  {
   "cell_type": "code",
   "execution_count": null,
   "metadata": {},
   "outputs": [],
   "source": [
    "BACKEND = Aer.get_backend('qasm_simulator')\n",
    "\n",
    "sampler = CircuitSampler(BACKEND)\n",
    "exp = PauliExpectation(group_paulis=True)\n",
    "\n",
    "qc, param = ansatz()\n",
    "\n",
    "def cost(phi):\n",
    "    \n",
    "    # circuit \n",
    "    circ = qc.bind_parameters({param: phi[0]})\n",
    "    \n",
    "    # execute and measure expectation value of H\n",
    "    cost = sampler.convert(exp.convert(~StateFn(H)) @ StateFn(circ)).eval()\n",
    "    \n",
    "    return cost.real"
   ]
  },
  {
   "cell_type": "markdown",
   "metadata": {},
   "source": [
    "Alternatively, we can build our own circuits to estimate the expectation value of the Hamiltonian $ H $. For $ Z \\otimes Z $ operator we need measurements in computational $ Z $ basis. Similar, for $ X \\otimes X $ and $ Y \\otimes Y $ we will use the following identities\n",
    "\n",
    "$$ \\langle \\psi(\\theta) | X \\otimes X |\\psi(\\theta) \\rangle = \\langle \\psi(\\theta) | H^{\\otimes 2} \\big(Z \\otimes Z \\big) H^{\\otimes 2} |\\psi(\\theta) \\rangle $$\n",
    "\n",
    "$$ \\langle \\psi(\\theta) | Y \\otimes Y |\\psi(\\theta) \\rangle = \\langle \\psi(\\theta) | \\big(S H \\big)^{\\otimes 2} \\big(Z \\otimes Z \\big) \\big(H S^{\\dagger}\\big)^{\\otimes 2} |\\psi(\\theta) \\rangle $$\n",
    "\n",
    "Of course, it holds that\n",
    "\n",
    "$$ \\langle ZZ \\rangle = p(00) + p(11) - p(01) - p(10) $$"
   ]
  },
  {
   "cell_type": "code",
   "execution_count": 4,
   "metadata": {},
   "outputs": [],
   "source": [
    "from qiskit import execute \n",
    "\n",
    "BACKEND = Aer.get_backend('qasm_simulator')\n",
    "qc, param = ansatz()\n",
    "\n",
    "# ZZ expectation\n",
    "def ZZ(phi, n_meas=1024):\n",
    "    \n",
    "    # circuit \n",
    "    circ = qc.bind_parameters({param: phi[0]})\n",
    "    circ.measure_all()\n",
    "    \n",
    "    # simulate \n",
    "    result = execute(circ, backend=BACKEND, shots=n_meas).result()\n",
    "        \n",
    "    counts = result.get_counts()\n",
    "    \n",
    "    expectation = 0.0\n",
    "    for key in ['00', '11']:\n",
    "        expectation += counts.get(key, 0.0) / n_meas\n",
    "        \n",
    "    for key in ['01', '10']:\n",
    "        expectation -= counts.get(key, 0.0) / n_meas\n",
    "        \n",
    "    return expectation\n",
    "\n",
    "\n",
    "# XX expectation\n",
    "def XX(phi, n_meas=1024):\n",
    "    \n",
    "    # circuit \n",
    "    circ = qc.bind_parameters({param: phi[0]})\n",
    "    circ.h([0, 1])\n",
    "    circ.measure_all()\n",
    "    \n",
    "    # simulate \n",
    "    result = execute(circ, backend=BACKEND, shots=n_meas).result()\n",
    "        \n",
    "    counts = result.get_counts()\n",
    "    \n",
    "    expectation = 0.0\n",
    "    for key in ['00', '11']:\n",
    "        expectation += counts.get(key, 0.0) / n_meas\n",
    "        \n",
    "    for key in ['01', '10']:\n",
    "        expectation -= counts.get(key, 0.0) / n_meas\n",
    "        \n",
    "    return expectation\n",
    "\n",
    "\n",
    "# YY expectation\n",
    "def YY(phi, n_meas=1024):\n",
    "    \n",
    "    # circuit \n",
    "    circ = qc.bind_parameters({param: phi[0]})\n",
    "    circ.sdg([0, 1])\n",
    "    circ.h([0, 1])\n",
    "    circ.measure_all()\n",
    "    \n",
    "    # simulate \n",
    "    result = execute(circ, backend=BACKEND, shots=n_meas).result()\n",
    "        \n",
    "    counts = result.get_counts()\n",
    "    \n",
    "    expectation = 0.0\n",
    "    for key in ['00', '11']:\n",
    "        expectation += counts.get(key, 0.0) / n_meas\n",
    "        \n",
    "    for key in ['01', '10']:\n",
    "        expectation -= counts.get(key, 0.0) / n_meas\n",
    "        \n",
    "    return expectation\n",
    "\n",
    "\n",
    "def cost(phi):\n",
    "    \n",
    "    return 0.5 - 0.5 * XX(phi) - 0.5 * YY(phi) + 0.5 * ZZ(phi)"
   ]
  },
  {
   "cell_type": "markdown",
   "metadata": {},
   "source": [
    "### Optimization"
   ]
  },
  {
   "cell_type": "code",
   "execution_count": 5,
   "metadata": {},
   "outputs": [
    {
     "name": "stdout",
     "output_type": "stream",
     "text": [
      "\n",
      "Lowest eigenvalue:  -1.0\n"
     ]
    },
    {
     "data": {
      "text/plain": [
       "     fun: -1.0\n",
       "   maxcv: 0.0\n",
       " message: 'Optimization terminated successfully.'\n",
       "    nfev: 14\n",
       "  status: 1\n",
       " success: True\n",
       "       x: array(3.15812981)"
      ]
     },
     "execution_count": 5,
     "metadata": {},
     "output_type": "execute_result"
    }
   ],
   "source": [
    "from scipy.optimize import minimize\n",
    "\n",
    "# random initial choice\n",
    "phi = np.random.uniform(0, 2 * np.pi)\n",
    "\n",
    "res = minimize(cost, phi, \n",
    "               method='COBYLA')\n",
    "\n",
    "print('\\nLowest eigenvalue: ', res.fun)\n",
    "res"
   ]
  },
  {
   "cell_type": "code",
   "execution_count": 6,
   "metadata": {},
   "outputs": [
    {
     "name": "stdout",
     "output_type": "stream",
     "text": [
      "Eigenvector:\n",
      "  [-0.00585+0.j       0.     -0.70708j  0.     -0.70708j -0.00585+0.j     ]\n"
     ]
    }
   ],
   "source": [
    "BACKEND = Aer.get_backend('statevector_simulator')\n",
    "\n",
    "circ = qc.bind_parameters({param: float(res.x)})\n",
    "\n",
    "result = execute(circ, BACKEND).result()\n",
    "output_state = result.get_statevector()\n",
    "\n",
    "print('Eigenvector:\\n ', np.around(output_state, decimals=5))"
   ]
  },
  {
   "cell_type": "markdown",
   "metadata": {},
   "source": [
    "## VQE in Qiskit-Aqua\n",
    "For demonstration purposes only, we use the same variatonal form but the VQE instance already built in Qiskit Aqua."
   ]
  },
  {
   "cell_type": "code",
   "execution_count": 8,
   "metadata": {},
   "outputs": [
    {
     "name": "stdout",
     "output_type": "stream",
     "text": [
      "\n",
      "Lowest eigenvalue:  (-0.9999999972742625+0j)\n"
     ]
    }
   ],
   "source": [
    "from qiskit.aqua.algorithms import VQE\n",
    "from qiskit.aqua.components.optimizers import SPSA, COBYLA\n",
    "from qiskit.aqua import QuantumInstance\n",
    "\n",
    "optimizer = SPSA(maxiter=100)\n",
    "\n",
    "var_form, _ = ansatz()\n",
    "\n",
    "vqe = VQE(H, var_form, optimizer)\n",
    "vqe_result = vqe.run(QuantumInstance(backend=BACKEND))\n",
    "\n",
    "vqe_result\n",
    "\n",
    "print('\\nLowest eigenvalue: ', vqe_result.eigenvalue)"
   ]
  },
  {
   "cell_type": "markdown",
   "metadata": {},
   "source": [
    "## Having more fun\n",
    "In this section, we further explore the structure of the matrix $ M $, give some insight on the chosen variatonal  from in a way that is albeit far from practical, but who cares, we will have a lot of fun!\n",
    "\n",
    "\n",
    "The first observation is that matrix $ M $ is unitary and naturally corresponds to a quantum circuit. Actually, it's so close to the well known $ SWAP $ operator, only some signs are off. But we can easily fix them with some $ Z $ operators.  \n",
    "\n",
    "Let's confirm that."
   ]
  },
  {
   "cell_type": "code",
   "execution_count": 9,
   "metadata": {},
   "outputs": [
    {
     "name": "stdout",
     "output_type": "stream",
     "text": [
      "Correct Matrix ? True\n"
     ]
    },
    {
     "data": {
      "image/png": "[encoded data removed]",
      "text/plain": [
       "<Figure size 321.232x144.48 with 1 Axes>"
      ]
     },
     "execution_count": 9,
     "metadata": {},
     "output_type": "execute_result"
    }
   ],
   "source": [
    "from qiskit.quantum_info import Operator\n",
    "\n",
    "qc = QuantumCircuit(2)\n",
    "\n",
    "qc.z(0)\n",
    "qc.swap(0, 1)\n",
    "qc.z(0)\n",
    "\n",
    "print('Correct Matrix ?', np.array_equal(Operator(qc).data, M))\n",
    "\n",
    "qc.draw('mpl')"
   ]
  },
  {
   "cell_type": "markdown",
   "metadata": {},
   "source": [
    "After decomposing the $ SWAP $ operator into 3 $ CNOT $ gates"
   ]
  },
  {
   "cell_type": "code",
   "execution_count": 10,
   "metadata": {},
   "outputs": [
    {
     "name": "stdout",
     "output_type": "stream",
     "text": [
      "Correct Matrix ? True\n"
     ]
    },
    {
     "data": {
      "image/png": "[encoded data removed]",
      "text/plain": [
       "<Figure size 441.632x144.48 with 1 Axes>"
      ]
     },
     "execution_count": 10,
     "metadata": {},
     "output_type": "execute_result"
    }
   ],
   "source": [
    "qc = QuantumCircuit(2)\n",
    "\n",
    "qc.z(0)\n",
    "\n",
    "# decompose swap\n",
    "qc.cx(0, 1)\n",
    "qc.cx(1, 0)\n",
    "qc.cx(0, 1)\n",
    "\n",
    "qc.z(0)\n",
    "\n",
    "print('Correct Matrix ?', np.array_equal(Operator(qc).data, M))\n",
    "\n",
    "qc.draw('mpl')"
   ]
  },
  {
   "cell_type": "markdown",
   "metadata": {},
   "source": [
    "we are tempting to choose a variatonal form $ A_{\\phi} $ in a way that in $ A_{\\phi}^{\\dagger} M A_{\\phi} $ some $ CNOT $s can be eliminated. \n",
    "\n",
    "With this thought, we make the following choice."
   ]
  },
  {
   "cell_type": "code",
   "execution_count": 11,
   "metadata": {},
   "outputs": [
    {
     "data": {
      "image/png": "[encoded data removed]",
      "text/plain": [
       "<Figure size 261.032x144.48 with 1 Axes>"
      ]
     },
     "execution_count": 11,
     "metadata": {},
     "output_type": "execute_result"
    }
   ],
   "source": [
    "phi = Parameter('φ')\n",
    "ansatz = QuantumCircuit(2)\n",
    "\n",
    "ansatz.h(0)\n",
    "ansatz.rx(phi, 1)\n",
    "ansatz.cx(0, 1)\n",
    "\n",
    "ansatz.draw('mpl')"
   ]
  },
  {
   "cell_type": "markdown",
   "metadata": {},
   "source": [
    "The whole circuit ($ A_{\\phi}^{\\dagger} M A_{\\phi} $) now looks like"
   ]
  },
  {
   "cell_type": "code",
   "execution_count": 12,
   "metadata": {},
   "outputs": [
    {
     "data": {
      "image/png": "[encoded data removed]",
      "text/plain": [
       "<Figure size 682.432x144.48 with 1 Axes>"
      ]
     },
     "execution_count": 12,
     "metadata": {},
     "output_type": "execute_result"
    }
   ],
   "source": [
    "circ = ansatz + qc + ansatz.inverse()\n",
    "\n",
    "circ.draw('mpl')"
   ]
  },
  {
   "cell_type": "markdown",
   "metadata": {},
   "source": [
    "Using our transpiler from task 3, we can try to simplify the circuit."
   ]
  },
  {
   "cell_type": "code",
   "execution_count": 13,
   "metadata": {},
   "outputs": [
    {
     "data": {
      "image/png": "[encoded data removed]",
      "text/plain": [
       "<Figure size 321.232x144.48 with 1 Axes>"
      ]
     },
     "execution_count": 13,
     "metadata": {},
     "output_type": "execute_result"
    }
   ],
   "source": [
    "from sys import path\n",
    "path.append(\"..\")\n",
    "\n",
    "from task_3.transpiler import RxzCzTranspiler\n",
    "\n",
    "\n",
    "circ_opt = RxzCzTranspiler(optimize=True).run(circ)\n",
    "circ_opt.draw('mpl')"
   ]
  },
  {
   "cell_type": "markdown",
   "metadata": {},
   "source": [
    "With a moment of thought we see that we reduced the initial problem of finding the lowest eigenvalue of $ M $ to optimize the angle of the following variatonal from to minimize the expectation value of a simple $ CZ $ operator."
   ]
  },
  {
   "cell_type": "code",
   "execution_count": 14,
   "metadata": {},
   "outputs": [
    {
     "data": {
      "image/png": "[encoded data removed]",
      "text/plain": [
       "<Figure size 200.832x144.48 with 1 Axes>"
      ]
     },
     "execution_count": 14,
     "metadata": {},
     "output_type": "execute_result"
    }
   ],
   "source": [
    "var_form = QuantumCircuit(2)\n",
    "\n",
    "var_form.rx(np.pi , 0)\n",
    "var_form.rx(phi, 1)\n",
    "\n",
    "var_form.draw('mpl')"
   ]
  },
  {
   "cell_type": "code",
   "execution_count": 17,
   "metadata": {},
   "outputs": [],
   "source": [
    "# compute CZ expectation\n",
    "BACKEND = Aer.get_backend('qasm_simulator')\n",
    "\n",
    "def cost(angle, n_meas=1024):\n",
    "    \n",
    "    # circuit\n",
    "    circ = var_form.bind_parameters({phi: angle[0]})\n",
    "    circ.measure_all()\n",
    "    \n",
    "    # simulate \n",
    "    result = execute(circ, backend=BACKEND, shots=n_meas).result()     \n",
    "    counts = result.get_counts()\n",
    "    \n",
    "    cz_expectation = 0.0\n",
    "    for key in ['00', '01', '10']:\n",
    "        cz_expectation += counts.get(key, 0.0) / n_meas\n",
    "        \n",
    "    for key in ['11']:\n",
    "        cz_expectation -= counts.get(key, 0.0) / n_meas\n",
    "        \n",
    "    return cz_expectation"
   ]
  },
  {
   "cell_type": "markdown",
   "metadata": {},
   "source": [
    "Now we perform the optimization."
   ]
  },
  {
   "cell_type": "code",
   "execution_count": 19,
   "metadata": {},
   "outputs": [
    {
     "name": "stdout",
     "output_type": "stream",
     "text": [
      "\n",
      "Lowest eigenvalue:  -1.0\n"
     ]
    },
    {
     "data": {
      "text/plain": [
       "     fun: -1.0\n",
       "   maxcv: 0.0\n",
       " message: 'Optimization terminated successfully.'\n",
       "    nfev: 14\n",
       "  status: 1\n",
       " success: True\n",
       "       x: array(3.14334792)"
      ]
     },
     "execution_count": 19,
     "metadata": {},
     "output_type": "execute_result"
    }
   ],
   "source": [
    "from scipy.optimize import minimize\n",
    "\n",
    "# random initial choice\n",
    "angle = np.random.uniform(0, 2 * np.pi)\n",
    "\n",
    "res = minimize(cost, angle, \n",
    "               method='COBYLA')\n",
    "\n",
    "print('\\nLowest eigenvalue: ', res.fun)\n",
    "res"
   ]
  },
  {
   "cell_type": "markdown",
   "metadata": {},
   "source": [
    "And finally we can compute the eigenvector from the chosen variatonal form (ansatz) with the optimized angle."
   ]
  },
  {
   "cell_type": "code",
   "execution_count": 20,
   "metadata": {},
   "outputs": [
    {
     "name": "stdout",
     "output_type": "stream",
     "text": [
      "Optimized Variatonal form\n",
      "         ┌───┐          \n",
      "q_0: ────┤ H ├───────■──\n",
      "     ┌───┴───┴────┐┌─┴─┐\n",
      "q_1: ┤ RX(3.1433) ├┤ X ├\n",
      "     └────────────┘└───┘\n",
      "Eigenvector:\n",
      "  [-0.00062+0.j       0.     -0.70711j  0.     -0.70711j -0.00062+0.j     ]\n"
     ]
    }
   ],
   "source": [
    "BACKEND = Aer.get_backend('statevector_simulator')\n",
    "\n",
    "circ = ansatz.bind_parameters({phi: float(res.x)})\n",
    "print('Optimized Variatonal form')\n",
    "print(circ)\n",
    "\n",
    "result = execute(circ, BACKEND).result()\n",
    "output_state = result.get_statevector()\n",
    "\n",
    "print('Eigenvector:\\n ', np.around(output_state, decimals=5))"
   ]
  }
 ],
 "metadata": {
  "kernelspec": {
   "display_name": "Python 3",
   "language": "python",
   "name": "python3"
  },
  "language_info": {
   "codemirror_mode": {
    "name": "ipython",
    "version": 3
   },
   "file_extension": ".py",
   "mimetype": "text/x-python",
   "name": "python",
   "nbconvert_exporter": "python",
   "pygments_lexer": "ipython3",
   "version": "3.7.1"
  }
 },
 "nbformat": 4,
 "nbformat_minor": 4
}
