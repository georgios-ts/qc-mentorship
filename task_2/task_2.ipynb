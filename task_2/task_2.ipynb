{
 "cells": [
  {
   "cell_type": "code",
   "execution_count": 1,
   "metadata": {},
   "outputs": [],
   "source": [
    "import numpy as np\n",
    "from scipy.optimize import minimize\n",
    "from scipy.stats import entropy\n",
    "\n",
    "\n",
    "from qiskit import Aer, execute, QuantumCircuit\n",
    "from qiskit.circuit import ParameterVector\n",
    "from qiskit.providers.aer.noise import NoiseModel\n",
    "from qiskit.test.mock import FakeVigo"
   ]
  },
  {
   "cell_type": "markdown",
   "metadata": {},
   "source": [
    "### Parameters of simulation\n",
    "We define the target probability distribution, the number of measurements and the noise model used in our simulations."
   ]
  },
  {
   "cell_type": "code",
   "execution_count": 2,
   "metadata": {},
   "outputs": [],
   "source": [
    "# Global parameters\n",
    "BACKEND = Aer.get_backend('qasm_simulator')\n",
    "\n",
    "TARGET = {'01': .5, \n",
    "          '10': .5}\n",
    "\n",
    "# Noise model\n",
    "device = FakeVigo()\n",
    "NOISE_MODEL = NoiseModel.from_backend(device)\n",
    "BASIS_GATES = NOISE_MODEL.basis_gates"
   ]
  },
  {
   "cell_type": "markdown",
   "metadata": {},
   "source": [
    "### Ansatz\n",
    "Our variatonal form consist of 'RY' and 'CNOT' gates. It's 'inspired' from the fact that\n",
    "\n",
    "$$ CNOT_{0,1} \\cdot \\big(X_1 \\otimes H_0\\big)  |00 \\rangle = \\frac{|01 \\rangle + |10 \\rangle}{2} $$\n",
    "\n",
    "and that $ R_y(\\pi / 2) |0 \\rangle = H |0 \\rangle, \\quad R_y(\\pi) |0 \\rangle = X |0 \\rangle $"
   ]
  },
  {
   "cell_type": "code",
   "execution_count": 3,
   "metadata": {},
   "outputs": [
    {
     "name": "stdout",
     "output_type": "stream",
     "text": [
      "Variatonal form\n",
      "     ┌──────────┐     \n",
      "q_0: ┤ RY(φ[0]) ├──■──\n",
      "     ├──────────┤┌─┴─┐\n",
      "q_1: ┤ RY(φ[1]) ├┤ X ├\n",
      "     └──────────┘└───┘\n"
     ]
    }
   ],
   "source": [
    "# define variatonal circuit\n",
    "def ansatz():\n",
    "    phi = ParameterVector(name='φ', \n",
    "                          length=2)\n",
    "\n",
    "    qc = QuantumCircuit(2)\n",
    "    qc.ry(phi[0], 0)\n",
    "    qc.ry(phi[1], 1)\n",
    "    qc.cx(0, 1)\n",
    "    \n",
    "    return qc, list(qc.parameters)\n",
    "\n",
    "\n",
    "qc, params = ansatz()\n",
    "print('Variatonal form')\n",
    "print(qc)"
   ]
  },
  {
   "cell_type": "markdown",
   "metadata": {},
   "source": [
    "### Cost function\n",
    "We try experiments with $L_1$-distance and  Kullback-Leibler divergence of the output and target probability distributions as loss functions. \n",
    "\n",
    "We add the expectation value of the $ X \\otimes X $ operator as a regularizer term to ensure that the output state is $ |\\psi_+ \\rangle = \\frac{|01 \\rangle + |10 \\rangle}{2} $ and not $ |\\psi_- \\rangle = \\frac{|01 \\rangle - |10 \\rangle}{2} $,   since $$ \\langle \\psi_+ | X \\otimes X |\\psi_+ \\rangle = 1 $$ but $ \\quad \\langle \\psi_- | X \\otimes X |\\psi_- \\rangle = -1 $.\n",
    "\n",
    "This means our total cost function is, for example:\n",
    "\n",
    "$$ L(\\theta) = ||p_{\\theta} - q||_{L_1} + \\lambda \\cdot \\big(1 - \\langle \\psi(\\theta) | X \\otimes X |\\psi(\\theta) \\rangle\\big) $$\n",
    "\n",
    "where $p_{\\theta},  q$ are probability distributions on $ \\{00, 01, 10, 11\\}$ defined by\n",
    "$$ p_{\\theta}(b_0 b_1) = \\big| \\langle \\psi(\\theta) | b_0 b_1 \\rangle \\big|^2 \\quad \\text{ and } \\quad q(01) = q(10) = \\frac{1}{2} $$\n",
    "\n",
    "Of course, we only have access to estimates of the probabilities and expectation values through our measurements.\n",
    "\n",
    "As a side note, to calculate the expectation value of $ X \\otimes X $ operator we observe that\n",
    "\n",
    "$$ \\langle \\psi(\\theta) | X \\otimes X |\\psi(\\theta) \\rangle = \\langle \\psi(\\theta) | H^{\\otimes 2} \\big(Z \\otimes Z \\big) H^{\\otimes 2} |\\psi(\\theta) \\rangle $$\n",
    "\n",
    "and that's why we append $ H^{\\otimes 2} $ in the circuit and measure expectation of $ Z \\otimes Z $ through measurements in computational basis."
   ]
  },
  {
   "cell_type": "code",
   "execution_count": 4,
   "metadata": {},
   "outputs": [],
   "source": [
    "# KL - Divergence of 2 dictionaries\n",
    "def KL(count, target):\n",
    "    p = np.zeros(4)\n",
    "    q = np.zeros(4)\n",
    "    \n",
    "    for i, key in enumerate(['00', '01', '10', '11']):\n",
    "        p[i] = count.get(key, 0.0)\n",
    "        q[i] = target.get(key, 0.0)\n",
    "        \n",
    "    return entropy(q, p)\n",
    "\n",
    "\n",
    "# define cost function\n",
    "def cost(phi, noise=False, L1=True, n_meas=1024, verbose=False):\n",
    "    \n",
    "    # circuit \n",
    "    circ = qc.bind_parameters(dict(zip(params, phi)))\n",
    "    circ.measure_all()\n",
    "    \n",
    "    # simulate \n",
    "    if noise:\n",
    "        result = execute(circ, backend=BACKEND, shots=n_meas,\n",
    "                         noise_model=NOISE_MODEL, basis_gates=BASIS_GATES).result()\n",
    "    else:\n",
    "        result = execute(circ, backend=BACKEND, shots=n_meas).result()\n",
    "        \n",
    "    counts = result.get_counts()\n",
    "    \n",
    "    # L1 - norm\n",
    "    if L1:\n",
    "        cost = 0.0\n",
    "        for key in ['00', '01', '10', '11']:\n",
    "            cost += np.abs(counts.get(key, 0.0) / n_meas - TARGET.get(key, 0.0))\n",
    "            \n",
    "    # KL - Divergence\n",
    "    else:\n",
    "        cost = KL(counts, TARGET)\n",
    "    \n",
    "    # show counts during optimization\n",
    "    if verbose:\n",
    "        print(counts)\n",
    "        \n",
    "    return cost\n",
    "\n",
    "\n",
    "# 'XX' expectation as regularizer term\n",
    "def XXRegularizer(phi, noise=False, n_meas=1024):\n",
    "    \n",
    "    # circuit \n",
    "    circ = qc.bind_parameters(dict(zip(params, phi)))\n",
    "    circ.h([0, 1])\n",
    "    circ.measure_all()\n",
    "    \n",
    "    # simulate \n",
    "    if noise:\n",
    "        result = execute(circ, backend=BACKEND, shots=n_meas,\n",
    "                         noise_model=NOISE_MODEL, basis_gates=BASIS_GATES).result()\n",
    "    else:\n",
    "        result = execute(circ, backend=BACKEND, shots=n_meas).result()\n",
    "        \n",
    "    counts = result.get_counts()\n",
    "    \n",
    "    \n",
    "    expectation = 0.0\n",
    "    for key in ['00', '11']:\n",
    "        expectation += counts.get(key, 0.0) / n_meas\n",
    "        \n",
    "    for key in ['01', '10']:\n",
    "        expectation -= counts.get(key, 0.0) / n_meas\n",
    "        \n",
    "    return (1 - expectation)"
   ]
  },
  {
   "cell_type": "markdown",
   "metadata": {},
   "source": [
    "### Optimize\n",
    "We choose COBYLA as our optimization method since gradient-based methods do not work well due to the noise present in our simulations and statistical noise coming through the limited number of measurements. "
   ]
  },
  {
   "cell_type": "code",
   "execution_count": 12,
   "metadata": {},
   "outputs": [
    {
     "name": "stdout",
     "output_type": "stream",
     "text": [
      "{'10': 292, '11': 125, '01': 98, '00': 509}\n",
      "{'10': 665, '11': 35, '01': 162, '00': 162}\n",
      "{'10': 821, '11': 3, '01': 1, '00': 199}\n",
      "{'10': 939, '11': 2, '01': 50, '00': 33}\n",
      "{'10': 583, '11': 40, '01': 270, '00': 131}\n",
      "{'10': 207, '11': 102, '01': 670, '00': 45}\n",
      "{'10': 286, '11': 165, '01': 108, '00': 465}\n",
      "{'10': 736, '11': 8, '01': 234, '00': 46}\n",
      "{'10': 552, '11': 66, '01': 198, '00': 208}\n",
      "{'10': 470, '11': 62, '01': 378, '00': 114}\n",
      "{'10': 392, '11': 48, '01': 511, '00': 73}\n",
      "{'10': 305, '11': 96, '01': 546, '00': 77}\n",
      "{'10': 481, '11': 21, '01': 481, '00': 41}\n",
      "{'10': 477, '11': 8, '01': 509, '00': 30}\n",
      "{'10': 526, '11': 4, '01': 473, '00': 21}\n",
      "{'10': 413, '11': 8, '01': 572, '00': 31}\n",
      "{'10': 463, '11': 9, '01': 530, '00': 22}\n",
      "{'10': 470, '11': 11, '01': 522, '00': 21}\n",
      "{'10': 453, '11': 7, '01': 539, '00': 25}\n",
      "{'10': 437, '11': 14, '01': 554, '00': 19}\n",
      "{'10': 440, '11': 9, '01': 545, '00': 30}\n",
      "{'10': 445, '11': 7, '01': 547, '00': 25}\n",
      "{'10': 443, '11': 15, '01': 536, '00': 30}\n",
      "{'10': 436, '11': 8, '01': 557, '00': 23}\n",
      "{'10': 479, '11': 3, '01': 514, '00': 28}\n",
      "{'10': 454, '11': 10, '01': 532, '00': 28}\n",
      "{'10': 469, '11': 10, '01': 522, '00': 23}\n",
      "{'10': 483, '11': 9, '01': 502, '00': 30}\n",
      "{'10': 459, '11': 7, '01': 529, '00': 29}\n",
      "{'10': 478, '11': 10, '01': 513, '00': 23}\n",
      "{'10': 486, '11': 7, '01': 510, '00': 21}\n",
      "{'10': 450, '11': 8, '01': 539, '00': 27}\n",
      "{'10': 468, '11': 4, '01': 525, '00': 27}\n",
      "{'10': 444, '11': 10, '01': 537, '00': 33}\n",
      "{'10': 466, '11': 13, '01': 524, '00': 21}\n",
      "{'10': 467, '11': 6, '01': 532, '00': 19}\n",
      "{'10': 468, '11': 10, '01': 512, '00': 34}\n"
     ]
    },
    {
     "data": {
      "text/plain": [
       "     fun: 0.1474609375\n",
       "   maxcv: 0.0\n",
       " message: 'Optimization terminated successfully.'\n",
       "    nfev: 37\n",
       "  status: 1\n",
       " success: True\n",
       "       x: array([3.27684627, 7.92084137])"
      ]
     },
     "execution_count": 12,
     "metadata": {},
     "output_type": "execute_result"
    }
   ],
   "source": [
    "# random initial choice\n",
    "phi = np.random.uniform(0, 2 * np.pi, len(params))\n",
    "\n",
    "SHOTS = 1024\n",
    "# hyperparameter\n",
    "lam = .7\n",
    "cost_fn = lambda phi: cost(phi, \n",
    "                           noise=True, verbose=True, n_meas=SHOTS) \\\n",
    "                     + lam * XXRegularizer(phi, \n",
    "                                           noise=True, n_meas=SHOTS)\n",
    "res = minimize(cost_fn, phi, \n",
    "               method='COBYLA')\n",
    "res"
   ]
  },
  {
   "cell_type": "markdown",
   "metadata": {},
   "source": [
    "### Simulate circuit with optimized parameters\n",
    "After we find the optimal values of parameters, we compare the output state of our circuit with the target $ |\\psi_+ \\rangle$ state."
   ]
  },
  {
   "cell_type": "code",
   "execution_count": 16,
   "metadata": {},
   "outputs": [
    {
     "name": "stdout",
     "output_type": "stream",
     "text": [
      "Output state:\n",
      "  [ 0.07752+0.j -0.70888+0.j -0.6966 +0.j  0.07888+0.j]\n",
      "Target state:\n",
      "  [0.      0.70711 0.70711 0.     ]\n",
      "\n",
      "Fidelity:\n",
      "  0.9876931745159916\n"
     ]
    }
   ],
   "source": [
    "from qiskit.quantum_info import state_fidelity\n",
    "\n",
    "# Target state\n",
    "target_state = (1 / np.sqrt(2)) * np.array([0, 1, 1, 0])\n",
    "\n",
    "backend = Aer.get_backend('statevector_simulator')\n",
    "\n",
    "def fidelity(phi):\n",
    "    # output state\n",
    "    circ = qc.bind_parameters(dict(zip(params, phi)))\n",
    "\n",
    "    result = execute(circ, backend).result()\n",
    "    output_state = result.get_statevector()\n",
    "    \n",
    "    return output_state, state_fidelity(output_state, target_state)\n",
    "\n",
    "\n",
    "\n",
    "output_state, F = fidelity(res.x)\n",
    "\n",
    "print('Output state:\\n ', np.around(output_state, decimals=5))\n",
    "print('Target state:\\n ', np.around(target_state, decimals=5))\n",
    "print('\\nFidelity:\\n ', F)"
   ]
  },
  {
   "cell_type": "markdown",
   "metadata": {},
   "source": [
    "### Benchmark with different number of measurements\n",
    "By increasing the number of measurements, we are able to achieve smaller error between output and target probability distributions and improve the fidelity of our state with $ |\\psi_+ \\rangle $. This is expected since with few measurements our statistical estimates are not accurate enough."
   ]
  },
  {
   "cell_type": "code",
   "execution_count": 24,
   "metadata": {},
   "outputs": [
    {
     "name": "stdout",
     "output_type": "stream",
     "text": [
      "\n",
      "Shots:  1\n",
      "       loss: 1.0\n",
      "   fidelity: 0.817\n",
      "\n",
      "Shots:  10\n",
      "       loss: 0.4\n",
      "   fidelity: 0.955\n",
      "\n",
      "Shots:  100\n",
      "       loss: 0.5\n",
      "   fidelity: 0.876\n",
      "\n",
      "Shots:  1000\n",
      "       loss: 0.262\n",
      "   fidelity: 0.993\n"
     ]
    }
   ],
   "source": [
    "lam = 2\n",
    "\n",
    "# random initial choice\n",
    "phi_init = np.random.uniform(0, 2 * np.pi, len(params))\n",
    "\n",
    "for shots in [1, 10, 100, 1000]:\n",
    "\n",
    "    cost_fn = lambda phi: cost(phi, \n",
    "                               noise=True, n_meas=shots) \\\n",
    "                         + lam * XXRegularizer(phi, \n",
    "                                               noise=True, n_meas=shots)\n",
    "    res = minimize(cost_fn, phi_init, \n",
    "                   method='COBYLA')\n",
    "    \n",
    "    _, F = fidelity(res.x)\n",
    "    \n",
    "    print('\\nShots: ', shots)\n",
    "    print('       loss: {:.3}'.format(res.fun))\n",
    "    print('   fidelity: {:.3}'.format(F))"
   ]
  },
  {
   "cell_type": "markdown",
   "metadata": {},
   "source": [
    "## State preparation with VQE in Qiskit-Aqua\n",
    "In this section, we provide an alternative solution using Qiskit Aqua.\n",
    "\n",
    "We rephrase the problem as finding the lowest energy eigenstate of a rank-1 Hamiltonian and we use VQE algorithm built in Qiskit.\n",
    "$$ H = - |\\psi_+ \\rangle \\langle \\psi_+| , \\qquad |\\psi_+ \\rangle = \\frac{|01 \\rangle + |10 \\rangle}{\\sqrt{2}}$$\n",
    "\n",
    "If we end up in the ground state of $H$, then our circuit will return $ |01 \\rangle, |10 \\rangle $ with equal probability."
   ]
  },
  {
   "cell_type": "code",
   "execution_count": 49,
   "metadata": {},
   "outputs": [
    {
     "data": {
      "text/plain": [
       "{'optimal_parameters': {Parameter(φ[0]): 1.5671007528561058, Parameter(φ[1]): -3.089639850187522}, 'optimal_point': array([ 1.56710075, -3.08963985]), 'optimal_value': -0.94091796875, 'optimizer_time': 30.742521047592163, 'eigenvalue': (-0.94091796875+0j), 'eigenstate': {'11': 4, '00': 32, '10': 492, '01': 496}, 'cost_function_evals': 241}"
      ]
     },
     "execution_count": 49,
     "metadata": {},
     "output_type": "execute_result"
    }
   ],
   "source": [
    "from qiskit.aqua.operators import MatrixOp, VectorStateFn\n",
    "from qiskit.aqua.algorithms import VQE\n",
    "from qiskit.aqua.components.optimizers import SPSA\n",
    "from qiskit.aqua import QuantumInstance\n",
    "\n",
    "\n",
    "H = - VectorStateFn(target_state).to_density_matrix()\n",
    "Hp = MatrixOp(H).to_pauli_op()\n",
    "\n",
    "optimizer = SPSA(max_trials=100)\n",
    "\n",
    "var_form, _ = ansatz()\n",
    "\n",
    "vqe = VQE(Hp, var_form, optimizer)\n",
    "vqe_result = vqe.run(QuantumInstance(backend=BACKEND, \n",
    "                                     noise_model=NOISE_MODEL))\n",
    "\n",
    "vqe_result"
   ]
  },
  {
   "cell_type": "code",
   "execution_count": 53,
   "metadata": {},
   "outputs": [
    {
     "name": "stdout",
     "output_type": "stream",
     "text": [
      "Fidelity: 0.999\n"
     ]
    }
   ],
   "source": [
    "circ = var_form.bind_parameters(vqe_result.optimal_parameters)\n",
    "\n",
    "result = execute(circ, backend).result()\n",
    "output_state = result.get_statevector()\n",
    "\n",
    "print('Fidelity: {:.3}'.format(state_fidelity(output_state, target_state)))"
   ]
  }
 ],
 "metadata": {
  "kernelspec": {
   "display_name": "Python 3",
   "language": "python",
   "name": "python3"
  },
  "language_info": {
   "codemirror_mode": {
    "name": "ipython",
    "version": 3
   },
   "file_extension": ".py",
   "mimetype": "text/x-python",
   "name": "python",
   "nbconvert_exporter": "python",
   "pygments_lexer": "ipython3",
   "version": "3.7.1"
  }
 },
 "nbformat": 4,
 "nbformat_minor": 4
}
