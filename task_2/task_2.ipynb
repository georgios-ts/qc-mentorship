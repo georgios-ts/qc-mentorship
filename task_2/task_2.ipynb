{
 "cells": [
  {
   "cell_type": "code",
   "execution_count": 1,
   "metadata": {},
   "outputs": [],
   "source": [
    "import numpy as np\n",
    "from scipy.optimize import minimize\n",
    "from scipy.stats import entropy\n",
    "\n",
    "\n",
    "from qiskit import Aer, execute, QuantumCircuit\n",
    "from qiskit.circuit import ParameterVector\n",
    "from qiskit.visualization import plot_histogram\n",
    "from qiskit.providers.aer.noise import NoiseModel\n",
    "from qiskit.test.mock import FakeVigo"
   ]
  },
  {
   "cell_type": "markdown",
   "metadata": {},
   "source": [
    "### Parameters of simulation\n",
    "We define the target probability distribution, the number of measurements and the noise model used in our simulations."
   ]
  },
  {
   "cell_type": "code",
   "execution_count": 2,
   "metadata": {},
   "outputs": [],
   "source": [
    "# Global parameters\n",
    "BACKEND = Aer.get_backend('qasm_simulator')\n",
    "\n",
    "TARGET = {'01': .5, \n",
    "          '10': .5}\n",
    "\n",
    "# Noise model\n",
    "device = FakeVigo()\n",
    "NOISE_MODEL = NoiseModel.from_backend(device)\n",
    "BASIS_GATES = NOISE_MODEL.basis_gates"
   ]
  },
  {
   "cell_type": "markdown",
   "metadata": {},
   "source": [
    "### Ansatz\n",
    "Our variatonal form consist of 'RY' and 'CNOT' gates. It's 'inspired' from the fact that\n",
    "\n",
    "$$ CNOT_{0,1} \\cdot \\big(X_1 \\otimes H_0\\big)  |00 \\rangle = \\frac{|01 \\rangle + |10 \\rangle}{2} $$\n",
    "\n",
    "and that $ R_y(\\pi / 2) |0 \\rangle = H |0 \\rangle, \\quad R_y(\\pi) |0 \\rangle = X |0 \\rangle $"
   ]
  },
  {
   "cell_type": "code",
   "execution_count": 3,
   "metadata": {},
   "outputs": [
    {
     "name": "stdout",
     "output_type": "stream",
     "text": [
      "Variatonal form\n",
      "     ┌──────────┐     \n",
      "q_0: ┤ RY(φ[0]) ├──■──\n",
      "     ├──────────┤┌─┴─┐\n",
      "q_1: ┤ RY(φ[1]) ├┤ X ├\n",
      "     └──────────┘└───┘\n"
     ]
    }
   ],
   "source": [
    "# define variatonal circuit\n",
    "def ansatz():\n",
    "    phi = ParameterVector(name='φ', \n",
    "                          length=2)\n",
    "\n",
    "    qc = QuantumCircuit(2)\n",
    "    qc.ry(phi[0], 0)\n",
    "    qc.ry(phi[1], 1)\n",
    "    qc.cx(0, 1)\n",
    "    \n",
    "    return qc, list(qc.parameters)\n",
    "\n",
    "\n",
    "qc, params = ansatz()\n",
    "print('Variatonal form')\n",
    "print(qc)"
   ]
  },
  {
   "cell_type": "markdown",
   "metadata": {},
   "source": [
    "### Cost function\n",
    "We try experiments with $L_1$-distance and  Kullback-Leibler divergence of the output and target probability distributions as loss functions. \n",
    "\n",
    "We add the expectation value of the $ X \\otimes X $ operator as a regularizer term to ensure that the output state is $ |\\psi_+ \\rangle = \\frac{|01 \\rangle + |10 \\rangle}{\\sqrt{2}} $ and not $ |\\psi_- \\rangle = \\frac{|01 \\rangle - |10 \\rangle}{\\sqrt{2}} $,   since $$ \\langle \\psi_+ | X \\otimes X |\\psi_+ \\rangle = 1 $$ but $ \\quad \\langle \\psi_- | X \\otimes X |\\psi_- \\rangle = -1 $.\n",
    "\n",
    "This means our total cost function is, for example:\n",
    "\n",
    "$$ L(\\theta) = ||p_{\\theta} - q||_{L_1} + \\lambda \\cdot \\big(1 - \\langle \\psi(\\theta) | X \\otimes X |\\psi(\\theta) \\rangle\\big) $$\n",
    "\n",
    "where $p_{\\theta},  q$ are probability distributions on $ \\{00, 01, 10, 11\\}$ defined by\n",
    "$$ p_{\\theta}(b_0 b_1) = \\big| \\langle \\psi(\\theta) | b_0 b_1 \\rangle \\big|^2 \\quad \\text{ and } \\quad q(01) = q(10) = \\frac{1}{2} $$\n",
    "\n",
    "Of course, we only have access to estimates of the probabilities and expectation values through our measurements.\n",
    "\n",
    "As a side note, to calculate the expectation value of $ X \\otimes X $ operator we observe that\n",
    "\n",
    "$$ \\langle \\psi(\\theta) | X \\otimes X |\\psi(\\theta) \\rangle = \\langle \\psi(\\theta) | H^{\\otimes 2} \\big(Z \\otimes Z \\big) H^{\\otimes 2} |\\psi(\\theta) \\rangle $$\n",
    "\n",
    "and that's why we append $ H^{\\otimes 2} $ in the circuit and measure expectation of $ Z \\otimes Z $ through measurements in computational basis."
   ]
  },
  {
   "cell_type": "code",
   "execution_count": 4,
   "metadata": {},
   "outputs": [],
   "source": [
    "# KL - Divergence of 2 dictionaries\n",
    "def KL(count, target):\n",
    "    p = np.zeros(4)\n",
    "    q = np.zeros(4)\n",
    "    \n",
    "    for i, key in enumerate(['00', '01', '10', '11']):\n",
    "        p[i] = count.get(key, 0.0)\n",
    "        q[i] = target.get(key, 0.0)\n",
    "        \n",
    "    return entropy(q, p)\n",
    "\n",
    "\n",
    "# define cost function\n",
    "def cost(phi, noise=False, L1=True, n_meas=1024, verbose=False):\n",
    "    \n",
    "    # circuit \n",
    "    circ = qc.bind_parameters(dict(zip(params, phi)))\n",
    "    circ.measure_all()\n",
    "    \n",
    "    # simulate \n",
    "    if noise:\n",
    "        result = execute(circ, backend=BACKEND, shots=n_meas,\n",
    "                         noise_model=NOISE_MODEL, basis_gates=BASIS_GATES).result()\n",
    "    else:\n",
    "        result = execute(circ, backend=BACKEND, shots=n_meas).result()\n",
    "        \n",
    "    counts = result.get_counts()\n",
    "    \n",
    "    # L1 - norm\n",
    "    if L1:\n",
    "        cost = 0.0\n",
    "        for key in ['00', '01', '10', '11']:\n",
    "            cost += np.abs(counts.get(key, 0.0) / n_meas - TARGET.get(key, 0.0))\n",
    "            \n",
    "    # KL - Divergence\n",
    "    else:\n",
    "        cost = KL(counts, TARGET)\n",
    "    \n",
    "    # show counts during optimization\n",
    "    if verbose:\n",
    "        print(counts)\n",
    "        \n",
    "    return cost\n",
    "\n",
    "\n",
    "# 'XX' expectation as regularizer term\n",
    "def XXRegularizer(phi, noise=False, n_meas=1024):\n",
    "    \n",
    "    # circuit \n",
    "    circ = qc.bind_parameters(dict(zip(params, phi)))\n",
    "    circ.h([0, 1])\n",
    "    circ.measure_all()\n",
    "    \n",
    "    # simulate \n",
    "    if noise:\n",
    "        result = execute(circ, backend=BACKEND, shots=n_meas,\n",
    "                         noise_model=NOISE_MODEL, basis_gates=BASIS_GATES).result()\n",
    "    else:\n",
    "        result = execute(circ, backend=BACKEND, shots=n_meas).result()\n",
    "        \n",
    "    counts = result.get_counts()\n",
    "    \n",
    "    \n",
    "    expectation = 0.0\n",
    "    for key in ['00', '11']:\n",
    "        expectation += counts.get(key, 0.0) / n_meas\n",
    "        \n",
    "    for key in ['01', '10']:\n",
    "        expectation -= counts.get(key, 0.0) / n_meas\n",
    "        \n",
    "    return (1 - expectation)"
   ]
  },
  {
   "cell_type": "markdown",
   "metadata": {},
   "source": [
    "### Optimize\n",
    "We choose COBYLA as our optimization method since gradient-based methods do not work well due to the noise present in our simulations and statistical noise coming through the limited number of measurements. "
   ]
  },
  {
   "cell_type": "code",
   "execution_count": 22,
   "metadata": {},
   "outputs": [
    {
     "name": "stdout",
     "output_type": "stream",
     "text": [
      "{'00': 518, '01': 94, '10': 295, '11': 117}\n",
      "{'00': 147, '01': 165, '10': 685, '11': 27}\n",
      "{'00': 78, '01': 536, '10': 311, '11': 99}\n",
      "{'00': 19, '01': 883, '10': 112, '11': 10}\n",
      "{'00': 110, '01': 519, '10': 163, '11': 232}\n",
      "{'00': 89, '01': 470, '10': 399, '11': 66}\n",
      "{'00': 67, '01': 427, '10': 491, '11': 39}\n",
      "{'00': 66, '01': 332, '10': 602, '11': 24}\n",
      "{'00': 39, '01': 489, '10': 455, '11': 41}\n",
      "{'00': 44, '01': 523, '10': 438, '11': 19}\n",
      "{'00': 44, '01': 575, '10': 380, '11': 25}\n",
      "{'00': 34, '01': 482, '10': 490, '11': 18}\n",
      "{'00': 46, '01': 427, '10': 537, '11': 14}\n",
      "{'00': 46, '01': 464, '10': 484, '11': 30}\n",
      "{'00': 40, '01': 445, '10': 515, '11': 24}\n",
      "{'00': 46, '01': 476, '10': 487, '11': 15}\n",
      "{'00': 43, '01': 471, '10': 493, '11': 17}\n",
      "{'00': 35, '01': 511, '10': 458, '11': 20}\n",
      "{'00': 34, '01': 493, '10': 483, '11': 14}\n",
      "{'00': 51, '01': 496, '10': 463, '11': 14}\n",
      "{'00': 41, '01': 436, '10': 526, '11': 21}\n",
      "{'00': 43, '01': 454, '10': 517, '11': 10}\n",
      "{'00': 45, '01': 445, '10': 510, '11': 24}\n",
      "{'00': 40, '01': 465, '10': 495, '11': 24}\n",
      "{'00': 39, '01': 474, '10': 495, '11': 16}\n",
      "{'00': 48, '01': 440, '10': 515, '11': 21}\n",
      "{'00': 46, '01': 465, '10': 484, '11': 29}\n",
      "{'00': 52, '01': 457, '10': 494, '11': 21}\n",
      "{'00': 48, '01': 447, '10': 498, '11': 31}\n",
      "{'00': 34, '01': 478, '10': 498, '11': 14}\n"
     ]
    },
    {
     "data": {
      "text/plain": [
       "     fun: 0.116015625\n",
       "   maxcv: 0.0\n",
       " message: 'Optimization terminated successfully.'\n",
       "    nfev: 30\n",
       "  status: 1\n",
       " success: True\n",
       "       x: array([2.8368548 , 1.54115779])"
      ]
     },
     "execution_count": 22,
     "metadata": {},
     "output_type": "execute_result"
    }
   ],
   "source": [
    "# random initial choice\n",
    "phi = np.random.uniform(0, 2 * np.pi, len(params))\n",
    "\n",
    "SHOTS = 1024\n",
    "# hyperparameter\n",
    "lam = 0.3\n",
    "cost_fn = lambda phi: cost(phi, \n",
    "                           noise=True, verbose=True, n_meas=SHOTS) \\\n",
    "                     + lam * XXRegularizer(phi, \n",
    "                                           noise=True, n_meas=SHOTS)\n",
    "res = minimize(cost_fn, phi, \n",
    "               method='COBYLA')\n",
    "res"
   ]
  },
  {
   "cell_type": "markdown",
   "metadata": {},
   "source": [
    "### Simulate circuit with optimized parameters\n",
    "After we find the optimal values of parameters, we compare the probability distribution and the output state of our circuit with the target $ |\\psi_+ \\rangle$ state."
   ]
  },
  {
   "cell_type": "code",
   "execution_count": 24,
   "metadata": {},
   "outputs": [
    {
     "data": {
      "image/png": "[encoded data removed]",
      "text/plain": [
       "<Figure size 504x360 with 1 Axes>"
      ]
     },
     "execution_count": 24,
     "metadata": {},
     "output_type": "execute_result"
    }
   ],
   "source": [
    "def counts(phi):\n",
    "    backend = Aer.get_backend('qasm_simulator')\n",
    "    \n",
    "    circ = qc.bind_parameters(dict(zip(params, phi)))\n",
    "    circ.measure_all()\n",
    "    \n",
    "    result = execute(circ, backend).result()\n",
    "    return result.get_counts()\n",
    "\n",
    "plot_histogram(counts(res.x))"
   ]
  },
  {
   "cell_type": "code",
   "execution_count": 25,
   "metadata": {},
   "outputs": [
    {
     "name": "stdout",
     "output_type": "stream",
     "text": [
      "Output state:\n",
      "  [0.1089 +0.j 0.68848+0.j 0.70919+0.j 0.10572+0.j]\n",
      "Target state:\n",
      "  [0.      0.70711 0.70711 0.     ]\n",
      "\n",
      "Fidelity:\n",
      "  0.9767482843279018\n"
     ]
    },
    {
     "data": {
      "image/png": "[encoded data removed]",
      "text/plain": [
       "<Figure size 504x504 with 2 Axes>"
      ]
     },
     "execution_count": 25,
     "metadata": {},
     "output_type": "execute_result"
    }
   ],
   "source": [
    "from qiskit.quantum_info import state_fidelity\n",
    "from qiskit.visualization import plot_state_qsphere\n",
    "\n",
    "# Target state\n",
    "target_state = (1 / np.sqrt(2)) * np.array([0, 1, 1, 0])\n",
    "\n",
    "backend = Aer.get_backend('statevector_simulator')\n",
    "\n",
    "def fidelity(phi):\n",
    "    # output state\n",
    "    circ = qc.bind_parameters(dict(zip(params, phi)))\n",
    "\n",
    "    result = execute(circ, backend).result()\n",
    "    output_state = result.get_statevector()\n",
    "    \n",
    "    return output_state, state_fidelity(output_state, target_state)\n",
    "\n",
    "\n",
    "\n",
    "output_state, F = fidelity(res.x)\n",
    "\n",
    "print('Output state:\\n ', np.around(output_state, decimals=5))\n",
    "print('Target state:\\n ', np.around(target_state, decimals=5))\n",
    "print('\\nFidelity:\\n ', F)\n",
    "\n",
    "plot_state_qsphere(output_state)"
   ]
  },
  {
   "cell_type": "markdown",
   "metadata": {},
   "source": [
    "### Benchmark with different number of measurements\n",
    "By increasing the number of measurements, we are able to achieve smaller error between output and target probability distributions and improve the fidelity of our state with $ |\\psi_+ \\rangle $. This is expected since with few measurements our statistical estimates are not accurate enough."
   ]
  },
  {
   "cell_type": "code",
   "execution_count": 26,
   "metadata": {},
   "outputs": [
    {
     "name": "stdout",
     "output_type": "stream",
     "text": [
      "\n",
      "Shots:  1\n",
      "       loss: 2.0\n",
      "   fidelity: 0.474\n",
      "\n",
      "Shots:  10\n",
      "       loss: 1.0\n",
      "   fidelity: 0.846\n",
      "\n",
      "Shots:  100\n",
      "       loss: 0.32\n",
      "   fidelity: 0.978\n",
      "\n",
      "Shots:  1000\n",
      "       loss: 0.238\n",
      "   fidelity: 0.968\n"
     ]
    },
    {
     "data": {
      "image/png": "[encoded data removed]",
      "text/plain": [
       "<Figure size 432x1224 with 4 Axes>"
      ]
     },
     "metadata": {
      "needs_background": "light"
     },
     "output_type": "display_data"
    }
   ],
   "source": [
    "import matplotlib.pyplot as plt\n",
    "%matplotlib inline\n",
    "\n",
    "lam = 1\n",
    "fig, ax = plt.subplots(4, 1, figsize=(6, 17))\n",
    "\n",
    "# random initial choice\n",
    "phi_init = np.random.uniform(0, 2 * np.pi, len(params))\n",
    "\n",
    "for i, shots in enumerate([1, 10, 100, 1000]):\n",
    "\n",
    "    cost_fn = lambda phi: cost(phi, \n",
    "                               noise=True, n_meas=shots) \\\n",
    "                         + lam * XXRegularizer(phi, \n",
    "                                               noise=True, n_meas=shots)\n",
    "    res = minimize(cost_fn, phi_init, \n",
    "                   method='COBYLA')\n",
    "    \n",
    "    _, F = fidelity(res.x)\n",
    "\n",
    "    print('\\nShots: ', shots)\n",
    "    print('       loss: {:.3}'.format(res.fun))\n",
    "    print('   fidelity: {:.3}'.format(F))\n",
    "    \n",
    "    plot_histogram(counts(res.x), ax=ax[i])\n",
    "\n",
    "plt.show()"
   ]
  },
  {
   "cell_type": "markdown",
   "metadata": {},
   "source": [
    "## State preparation with VQE in Qiskit-Aqua\n",
    "In this section, we provide an alternative solution using Qiskit Aqua.\n",
    "\n",
    "We rephrase the problem as finding the lowest energy eigenstate of a rank-1 Hamiltonian and we use VQE algorithm built in Qiskit.\n",
    "$$ H = - |\\psi_+ \\rangle \\langle \\psi_+| , \\qquad |\\psi_+ \\rangle = \\frac{|01 \\rangle + |10 \\rangle}{\\sqrt{2}}$$\n",
    "\n",
    "If we end up in the ground state of $H$, then our circuit will return $ |01 \\rangle, |10 \\rangle $ with equal probability."
   ]
  },
  {
   "cell_type": "code",
   "execution_count": 30,
   "metadata": {},
   "outputs": [
    {
     "data": {
      "text/plain": [
       "{'optimal_parameters': {Parameter(φ[0]): -4.7117669763346, Parameter(φ[1]): -3.1471106790545718}, 'optimal_point': array([-4.71176698, -3.14711068]), 'optimal_value': -0.9311523437499998, 'optimizer_time': 33.04392695426941, 'eigenvalue': (-0.9311523437499998+0j), 'eigenstate': {'00': 15, '01': 511, '10': 488, '11': 10}, 'cost_function_evals': 241}"
      ]
     },
     "execution_count": 30,
     "metadata": {},
     "output_type": "execute_result"
    }
   ],
   "source": [
    "from qiskit.aqua.operators import MatrixOp, VectorStateFn\n",
    "from qiskit.aqua.algorithms import VQE\n",
    "from qiskit.aqua.components.optimizers import SPSA\n",
    "from qiskit.aqua import QuantumInstance\n",
    "\n",
    "\n",
    "H = - VectorStateFn(target_state).to_density_matrix()\n",
    "Hp = MatrixOp(H).to_pauli_op()\n",
    "\n",
    "optimizer = SPSA(maxiter=100)\n",
    "\n",
    "var_form, _ = ansatz()\n",
    "\n",
    "vqe = VQE(Hp, var_form, optimizer)\n",
    "vqe_result = vqe.run(QuantumInstance(backend=BACKEND, \n",
    "                                     noise_model=NOISE_MODEL))\n",
    "\n",
    "vqe_result"
   ]
  },
  {
   "cell_type": "code",
   "execution_count": 31,
   "metadata": {},
   "outputs": [
    {
     "name": "stdout",
     "output_type": "stream",
     "text": [
      "Fidelity: 1.0\n"
     ]
    }
   ],
   "source": [
    "circ = var_form.bind_parameters(vqe_result.optimal_parameters)\n",
    "\n",
    "result = execute(circ, backend).result()\n",
    "output_state = result.get_statevector()\n",
    "\n",
    "print('Fidelity: {:.3}'.format(state_fidelity(output_state, target_state)))"
   ]
  }
 ],
 "metadata": {
  "kernelspec": {
   "display_name": "Python 3",
   "language": "python",
   "name": "python3"
  },
  "language_info": {
   "codemirror_mode": {
    "name": "ipython",
    "version": 3
   },
   "file_extension": ".py",
   "mimetype": "text/x-python",
   "name": "python",
   "nbconvert_exporter": "python",
   "pygments_lexer": "ipython3",
   "version": "3.7.1"
  }
 },
 "nbformat": 4,
 "nbformat_minor": 4
}
