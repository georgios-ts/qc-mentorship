{
 "cells": [
  {
   "cell_type": "markdown",
   "metadata": {},
   "source": [
    "## Transpilation\n",
    "\n",
    "We define our own `Gate` class and a method to `unroll` every gate to $ R_x, R_z, CZ $ basis.\n",
    "\n",
    "More specifically, the following identities were used:\n",
    "\n",
    "- $ H = e^{i \\frac{\\pi}{2}} \\cdot R_z\\big(\\frac{\\pi}{2}\\big) R_x\\big(\\frac{\\pi}{2}\\big) R_z\\big(\\frac{\\pi}{2}\\big) $\n",
    "\n",
    "\n",
    "- $ Z = e^{i \\frac{\\pi}{2}} \\cdot R_z(\\pi) $\n",
    "\n",
    "\n",
    "- $ X = e^{i \\frac{\\pi}{2}} \\cdot R_x(\\pi) $\n",
    "\n",
    "\n",
    "- $ Y = -i \\cdot Z X = e^{i \\frac{\\pi}{2}} \\cdot R_z(\\pi) R_x(\\pi)$\n",
    "\n",
    "\n",
    "- $ R_y(\\phi) = R_z\\big(\\frac{\\pi}{2}\\big) R_x(\\phi)  R_z\\big(-\\frac{\\pi}{2}\\big)$\n",
    "\n",
    "\n",
    "\n",
    "- \n",
    "\n",
    "$ \\begin{align*} \n",
    "CNOT & = (\\mathbb{1} \\otimes H) \\cdot CZ \\cdot (\\mathbb{1} \\otimes H) \\\\ \n",
    "&= (\\mathbb{1} \\otimes H) \\cdot CZ \\cdot (\\mathbb{1} \\otimes H^\\dagger) \\\\\n",
    "&=  \\Big(\\mathbb{1} \\otimes e^{i \\frac{\\pi}{2}} \\cdot R_z\\big(\\frac{\\pi}{2}\\big) R_x\\big(\\frac{\\pi}{2}\\big) R_z\\big(\\frac{\\pi}{2}\\big)\\Big) \\cdot CZ \\cdot \\Big(\\mathbb{1} \\otimes e^{-i \\frac{\\pi}{2}} \\cdot R_z\\big(-\\frac{\\pi}{2}\\big) R_x\\big(-\\frac{\\pi}{2}\\big) R_z\\big(-\\frac{\\pi}{2}\\big)\\Big) \\\\\n",
    "&=  \\Big(\\mathbb{1} \\otimes R_z\\big(\\frac{\\pi}{2}\\big) R_x\\big(\\frac{\\pi}{2}\\big) \\Big) \\cdot CZ \\cdot \\Big(\\mathbb{1} \\otimes R_x\\big(-\\frac{\\pi}{2}\\big) R_z\\big(-\\frac{\\pi}{2}\\big)\\Big)\n",
    "\\end{align*} $"
   ]
  },
  {
   "cell_type": "code",
   "execution_count": 1,
   "metadata": {},
   "outputs": [],
   "source": [
    "import numpy as np\n",
    "\n",
    "from gates import *\n",
    "from unroller import Unroller\n",
    "from circuit import Circuit"
   ]
  },
  {
   "cell_type": "code",
   "execution_count": 2,
   "metadata": {},
   "outputs": [
    {
     "name": "stdout",
     "output_type": "stream",
     "text": [
      "Original circuit\n",
      "------\n",
      "H on q_0\n",
      "CX on q_0 controlled by q_1\n",
      "------\n"
     ]
    }
   ],
   "source": [
    "qc = Circuit(2)\n",
    "\n",
    "qc.append(H(0))\n",
    "qc.append(CX([0, 1]))\n",
    "\n",
    "print('Original circuit')\n",
    "print('------')\n",
    "print(qc)\n",
    "print('------')"
   ]
  },
  {
   "cell_type": "code",
   "execution_count": 3,
   "metadata": {},
   "outputs": [
    {
     "name": "stdout",
     "output_type": "stream",
     "text": [
      "Transpiled circuit\n",
      "------\n",
      "Rz(1.57) on q_0\n",
      "Rx(1.57) on q_0\n",
      "Rz(1.57) on q_0\n",
      "Rz(1.57) on q_1\n",
      "Rx(1.57) on q_1\n",
      "CZ on q_0 controlled by q_1\n",
      "Rx(-1.57) on q_1\n",
      "Rz(-1.57) on q_1\n",
      "------\n",
      "\n",
      "Global phase:\n",
      "1.57\n"
     ]
    }
   ],
   "source": [
    "roller = Unroller()\n",
    "circ, phase = roller.run(qc)\n",
    "\n",
    "print('Transpiled circuit')\n",
    "print('------')\n",
    "print(circ)\n",
    "print('------')\n",
    "print('\\nGlobal phase:\\n{:.3g}'.format(phase))"
   ]
  },
  {
   "cell_type": "markdown",
   "metadata": {},
   "source": [
    "And for a more involved example"
   ]
  },
  {
   "cell_type": "code",
   "execution_count": 4,
   "metadata": {},
   "outputs": [
    {
     "name": "stdout",
     "output_type": "stream",
     "text": [
      "Original circuit\n",
      "------\n",
      "H on q_0\n",
      "Y on q_2\n",
      "X on q_3\n",
      "CX on q_0 controlled by q_1\n",
      "CZ on q_2 controlled by q_3\n",
      "Rx(1.05) on q_0\n",
      "Ry(0.524) on q_1\n",
      "CX on q_0 controlled by q_2\n",
      "CX on q_1 controlled by q_3\n",
      "------\n"
     ]
    }
   ],
   "source": [
    "qc = Circuit(4)\n",
    "\n",
    "qc.append(H(0))\n",
    "qc.append(Y(2))\n",
    "qc.append(X(3))\n",
    "\n",
    "qc.append(CX([0, 1]))\n",
    "qc.append(CZ([2, 3]))\n",
    "\n",
    "qc.append(Rx(np.pi / 3, 0))\n",
    "qc.append(Ry(np.pi / 6, 1))\n",
    "\n",
    "qc.append(CX([0, 2]))\n",
    "qc.append(CX([1, 3]))\n",
    "\n",
    "print('Original circuit')\n",
    "print('------')\n",
    "print(qc)\n",
    "print('------')"
   ]
  },
  {
   "cell_type": "code",
   "execution_count": 5,
   "metadata": {},
   "outputs": [
    {
     "name": "stdout",
     "output_type": "stream",
     "text": [
      "Transpiled circuit\n",
      "------\n",
      "Rz(1.57) on q_0\n",
      "Rx(1.57) on q_0\n",
      "Rz(1.57) on q_0\n",
      "Rx(3.14) on q_2\n",
      "Rz(3.14) on q_2\n",
      "Rx(3.14) on q_3\n",
      "Rz(1.57) on q_1\n",
      "Rx(1.57) on q_1\n",
      "CZ on q_0 controlled by q_1\n",
      "Rx(-1.57) on q_1\n",
      "Rz(-1.57) on q_1\n",
      "CZ on q_2 controlled by q_3\n",
      "Rx(1.05) on q_0\n",
      "Rz(1.57) on q_1\n",
      "Rx(0.524) on q_1\n",
      "Rz(1.57) on q_1\n",
      "Rz(1.57) on q_2\n",
      "Rx(1.57) on q_2\n",
      "CZ on q_0 controlled by q_2\n",
      "Rx(-1.57) on q_2\n",
      "Rz(-1.57) on q_2\n",
      "Rz(1.57) on q_3\n",
      "Rx(1.57) on q_3\n",
      "CZ on q_1 controlled by q_3\n",
      "Rx(-1.57) on q_3\n",
      "Rz(-1.57) on q_3\n",
      "------\n",
      "\n",
      "Global phase:\n",
      "0\n"
     ]
    }
   ],
   "source": [
    "roller = Unroller()\n",
    "circ, phase = roller.run(qc)\n",
    "\n",
    "print('Transpiled circuit')\n",
    "print('------')\n",
    "print(circ)\n",
    "print('------')\n",
    "print('\\nGlobal phase:\\n{:.3g}'.format(phase))"
   ]
  }
 ],
 "metadata": {
  "kernelspec": {
   "display_name": "Python (QiskitDevenv)",
   "language": "python",
   "name": "qiskitdevenv"
  },
  "language_info": {
   "codemirror_mode": {
    "name": "ipython",
    "version": 3
   },
   "file_extension": ".py",
   "mimetype": "text/x-python",
   "name": "python",
   "nbconvert_exporter": "python",
   "pygments_lexer": "ipython3",
   "version": "3.8.3"
  }
 },
 "nbformat": 4,
 "nbformat_minor": 4
}
